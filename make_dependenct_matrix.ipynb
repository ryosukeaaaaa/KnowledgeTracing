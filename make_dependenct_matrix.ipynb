{
 "cells": [
  {
   "cell_type": "code",
   "execution_count": 55,
   "metadata": {},
   "outputs": [
    {
     "name": "stdout",
     "output_type": "stream",
     "text": [
      "[[0. 0. 0. 0. 0. 0.]\n",
      " [0. 0. 0. 0. 0. 0.]\n",
      " [0. 1. 0. 0. 0. 0.]\n",
      " [0. 1. 0. 0. 0. 0.]\n",
      " [1. 0. 1. 1. 0. 0.]\n",
      " [0. 0. 1. 1. 0. 0.]]\n"
     ]
    }
   ],
   "source": [
    "import numpy as np\n",
    "\n",
    "def generate_lower_triangular_dependency_matrix(size):\n",
    "    # 下三角行列をランダム生成（対角成分は0にする）\n",
    "    A = np.tril(np.random.randint(0, 2, (size, size)), k=-1).astype(float)\n",
    "    \n",
    "    # 各ノードが必ず1つの依存関係を持つように調整\n",
    "    for i in range(size - 1):  # 最後のノード以外をチェック\n",
    "        if not A[i, :].any():  # 出次数が0のノードを確認\n",
    "            # ランダムに依存関係を作る\n",
    "            j = np.random.randint(i + 1, size)  # 自分より後のノードから選択\n",
    "            A[j, i] = 1.0\n",
    "    \n",
    "    return A\n",
    "\n",
    "# 行列サイズを指定\n",
    "size = 6\n",
    "dependency_matrix = generate_lower_triangular_dependency_matrix(size)\n",
    "print(dependency_matrix)\n",
    "\n",
    "# 加えて、列で見たときに、残りの下の行と、1が一つもない列の数を数えて、行の数が列の数と等しければフラグを立たすと言う制約を入れる。"
   ]
  },
  {
   "cell_type": "markdown",
   "metadata": {},
   "source": [
    "データ生成で必要な条件  \n",
    "- 初期状態からの遷移(1~N/2)くらい？（上位N/2行でok）\n",
    "- 何かしらのノードのつながっている\n",
    "- 三角行列（一方向のみ）"
   ]
  },
  {
   "cell_type": "code",
   "execution_count": 126,
   "metadata": {},
   "outputs": [
    {
     "name": "stdout",
     "output_type": "stream",
     "text": [
      "1\n",
      "Original Dependency Matrix:\n",
      "[[0. 0. 0. 0. 0. 0.]\n",
      " [1. 0. 0. 0. 0. 0.]\n",
      " [0. 1. 0. 0. 0. 0.]\n",
      " [0. 1. 0. 0. 0. 0.]\n",
      " [0. 1. 1. 0. 0. 0.]\n",
      " [0. 0. 0. 1. 1. 0.]]\n",
      "Refined Dependency Matrix:\n",
      "[[0. 0. 0. 0. 0. 0.]\n",
      " [1. 0. 0. 0. 0. 0.]\n",
      " [0. 1. 0. 0. 0. 0.]\n",
      " [0. 0. 1. 0. 0. 0.]\n",
      " [0. 0. 0. 1. 0. 0.]\n",
      " [0. 0. 0. 0. 1. 0.]]\n"
     ]
    }
   ],
   "source": [
    "import numpy as np\n",
    "\n",
    "def generate_lower_triangular_dependency_matrix(size):\n",
    "    # 下三角行列をランダム生成（対角成分は0にする）\n",
    "    A = np.tril(np.random.randint(0, 2, (size, size)), k=-1).astype(float)\n",
    "\n",
    "    # 初期状態からの遷移をいくつ作るか\n",
    "    init = np.random.randint(1, int(size / 2))\n",
    "    print(init)\n",
    "    for i in range(init):\n",
    "        A[i+1] = 0\n",
    "        A[i+1, 0] = 1\n",
    "    for j in range(init, size-1):\n",
    "        A[j+1, 0] = 0\n",
    "    \n",
    "    # 各列いずれかに1が格納されるように調整（下三角行列内で）\n",
    "    for i in range(size):\n",
    "        if not A[:, i].any():  # i列がすべて0の場合\n",
    "            # i+1以降の行で0要素目が1でないものをフィルタリング\n",
    "            candidates = [row for row in range(i + 1, size) if A[row, 0] != 1]\n",
    "            if candidates:  # 候補が存在する場合のみ処理\n",
    "                j = np.random.choice(candidates)  # ランダムに行を選択\n",
    "                A[j, i] = 1.0\n",
    "                \n",
    "    # 各ノードが必ず1つの依存関係を持つように調整\n",
    "    for i in range(size - 1):  # 最後のノード以外をチェック\n",
    "        if not A[i, :].any():  # 出次数が0のノードを確認\n",
    "            if i > 1:  # i = 0 の場合をスキップ\n",
    "                # ランダムに依存関係を作る\n",
    "                j = np.random.randint(1, i)  # 1からi-1までの数字から選択\n",
    "                A[i, j] = 1.0\n",
    "\n",
    "    return A\n",
    "\n",
    "\n",
    "def refine_dependency_matrix(A):\n",
    "    size = A.shape[0]\n",
    "    for i in range(size):\n",
    "        for j in range(i + 1, size):\n",
    "            # A[j][1:] が A[i][1:] を包含しているかを確認\n",
    "            if all(A[j, 1:] >= A[i, 1:]) and np.any(A[i, 1:] > 0):\n",
    "                # A[j][i] を 1 にし、それ以外を 0 に設定\n",
    "                A[j, :] = A[j, :] - A[i, :]\n",
    "                A[j, i] = 1\n",
    "    return A\n",
    "\n",
    "# 行列サイズを指定\n",
    "size = 6\n",
    "# 初期の依存行列を生成\n",
    "dependency_matrix = generate_lower_triangular_dependency_matrix(size)\n",
    "print(\"Original Dependency Matrix:\")\n",
    "print(dependency_matrix)\n",
    "\n",
    "# 包含関係に基づいて修正\n",
    "refined_matrix = refine_dependency_matrix(dependency_matrix)\n",
    "print(\"Refined Dependency Matrix:\")\n",
    "print(refined_matrix)\n"
   ]
  }
 ],
 "metadata": {
  "kernelspec": {
   "display_name": "KT",
   "language": "python",
   "name": "python3"
  },
  "language_info": {
   "codemirror_mode": {
    "name": "ipython",
    "version": 3
   },
   "file_extension": ".py",
   "mimetype": "text/x-python",
   "name": "python",
   "nbconvert_exporter": "python",
   "pygments_lexer": "ipython3",
   "version": "3.9.6"
  }
 },
 "nbformat": 4,
 "nbformat_minor": 2
}
