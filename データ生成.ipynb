{
 "cells": [
  {
   "cell_type": "code",
   "execution_count": null,
   "metadata": {},
   "outputs": [],
   "source": [
    "import numpy as np\n",
    "import pandas as pd\n",
    "\n",
    "# パラメータ設定\n",
    "num_students = 2000  # 学生の人数\n",
    "num_exercises = 50  # エクササイズの数\n",
    "num_concepts = 5  # コンセプトの数\n",
    "c = 0.25  # ランダムな推測で正解する確率\n",
    "\n",
    "# 学生のスキル(alpha)とエクササイズの難易度(beta)の初期化\n",
    "np.random.seed(42)  # 再現性のため乱数シードを設定\n",
    "student_skills = np.random.normal(0, 1, (num_students, num_concepts))  # 学生ごとのコンセプトに対するスキル\n",
    "exercise_concepts = np.random.choice(num_concepts, num_exercises)  # 各エクササイズのコンセプト\n",
    "exercise_difficulties = np.random.normal(0, 1, num_exercises)  # 各エクササイズの難易度\n",
    "\n",
    "# 学生の解答データを生成\n",
    "def sigmoid(x):\n",
    "    return 1 / (1 + np.exp(-x))\n",
    "\n",
    "responses = np.zeros((num_students, num_exercises))\n",
    "\n",
    "for student in range(num_students):\n",
    "    for exercise in range(num_exercises):\n",
    "        concept = exercise_concepts[exercise]  # エクササイズに関連するコンセプト\n",
    "        skill = student_skills[student, concept]  # 学生のコンセプトに対するスキル\n",
    "        difficulty = exercise_difficulties[exercise]  # エクササイズの難易度\n",
    "        \n",
    "        # IRTに基づいて正解確率を計算\n",
    "        p_correct = c + (1 - c) * sigmoid(skill - difficulty)\n",
    "        \n",
    "        # 学生の解答をシミュレート (正解なら1、間違いなら0)\n",
    "        response = np.random.binomial(1, p_correct)\n",
    "        responses[student, exercise] = response\n",
    "        \n",
    "        # 学生のスキルを更新（正答・誤答に関わらず学習する）\n",
    "        learning_rate = 0.01  # 学習率\n",
    "        student_skills[student, concept] += learning_rate * (response - 0.5)  # 正答なら増加、誤答なら減少\n",
    "\n",
    "# データフレームにまとめる\n",
    "student_ids = [f\"student_{i+1}\" for i in range(num_students)]\n",
    "exercise_ids = [f\"exercise_{i+1}\" for i in range(num_exercises)]\n",
    "responses_df = pd.DataFrame(responses, index=student_ids, columns=exercise_ids)\n",
    "\n",
    "# データの一部を表示\n",
    "display(responses_df.head())\n"
   ]
  }
 ],
 "metadata": {
  "kernelspec": {
   "display_name": "KT",
   "language": "python",
   "name": "python3"
  },
  "language_info": {
   "name": "python",
   "version": "3.9.6"
  }
 },
 "nbformat": 4,
 "nbformat_minor": 2
}
